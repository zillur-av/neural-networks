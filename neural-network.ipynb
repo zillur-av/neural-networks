{
 "cells": [
  {
   "cell_type": "code",
   "execution_count": 1,
   "metadata": {},
   "outputs": [],
   "source": [
    "import numpy as np\n",
    "import matplotlib.pyplot as plt\n",
    "import pandas as pd\n",
    "import math"
   ]
  },
  {
   "cell_type": "markdown",
   "metadata": {},
   "source": [
    "# Read the dataset"
   ]
  },
  {
   "cell_type": "code",
   "execution_count": 2,
   "metadata": {},
   "outputs": [
    {
     "data": {
      "text/html": [
       "<div>\n",
       "<style scoped>\n",
       "    .dataframe tbody tr th:only-of-type {\n",
       "        vertical-align: middle;\n",
       "    }\n",
       "\n",
       "    .dataframe tbody tr th {\n",
       "        vertical-align: top;\n",
       "    }\n",
       "\n",
       "    .dataframe thead th {\n",
       "        text-align: right;\n",
       "    }\n",
       "</style>\n",
       "<table border=\"1\" class=\"dataframe\">\n",
       "  <thead>\n",
       "    <tr style=\"text-align: right;\">\n",
       "      <th></th>\n",
       "      <th>Area</th>\n",
       "      <th>MajorAxisLength</th>\n",
       "      <th>MinorAxisLength</th>\n",
       "      <th>Eccentricity</th>\n",
       "      <th>ConvexArea</th>\n",
       "      <th>Extent</th>\n",
       "      <th>Perimeter</th>\n",
       "      <th>Class</th>\n",
       "    </tr>\n",
       "  </thead>\n",
       "  <tbody>\n",
       "    <tr>\n",
       "      <th>0</th>\n",
       "      <td>87524</td>\n",
       "      <td>442.246011</td>\n",
       "      <td>253.291155</td>\n",
       "      <td>0.819738</td>\n",
       "      <td>90546</td>\n",
       "      <td>0.758651</td>\n",
       "      <td>1184.040</td>\n",
       "      <td>Kecimen</td>\n",
       "    </tr>\n",
       "    <tr>\n",
       "      <th>1</th>\n",
       "      <td>75166</td>\n",
       "      <td>406.690687</td>\n",
       "      <td>243.032436</td>\n",
       "      <td>0.801805</td>\n",
       "      <td>78789</td>\n",
       "      <td>0.684130</td>\n",
       "      <td>1121.786</td>\n",
       "      <td>Kecimen</td>\n",
       "    </tr>\n",
       "    <tr>\n",
       "      <th>2</th>\n",
       "      <td>90856</td>\n",
       "      <td>442.267048</td>\n",
       "      <td>266.328318</td>\n",
       "      <td>0.798354</td>\n",
       "      <td>93717</td>\n",
       "      <td>0.637613</td>\n",
       "      <td>1208.575</td>\n",
       "      <td>Kecimen</td>\n",
       "    </tr>\n",
       "    <tr>\n",
       "      <th>3</th>\n",
       "      <td>45928</td>\n",
       "      <td>286.540559</td>\n",
       "      <td>208.760042</td>\n",
       "      <td>0.684989</td>\n",
       "      <td>47336</td>\n",
       "      <td>0.699599</td>\n",
       "      <td>844.162</td>\n",
       "      <td>Kecimen</td>\n",
       "    </tr>\n",
       "    <tr>\n",
       "      <th>4</th>\n",
       "      <td>79408</td>\n",
       "      <td>352.190770</td>\n",
       "      <td>290.827533</td>\n",
       "      <td>0.564011</td>\n",
       "      <td>81463</td>\n",
       "      <td>0.792772</td>\n",
       "      <td>1073.251</td>\n",
       "      <td>Kecimen</td>\n",
       "    </tr>\n",
       "  </tbody>\n",
       "</table>\n",
       "</div>"
      ],
      "text/plain": [
       "    Area  MajorAxisLength  MinorAxisLength  Eccentricity  ConvexArea  \\\n",
       "0  87524       442.246011       253.291155      0.819738       90546   \n",
       "1  75166       406.690687       243.032436      0.801805       78789   \n",
       "2  90856       442.267048       266.328318      0.798354       93717   \n",
       "3  45928       286.540559       208.760042      0.684989       47336   \n",
       "4  79408       352.190770       290.827533      0.564011       81463   \n",
       "\n",
       "     Extent  Perimeter    Class  \n",
       "0  0.758651   1184.040  Kecimen  \n",
       "1  0.684130   1121.786  Kecimen  \n",
       "2  0.637613   1208.575  Kecimen  \n",
       "3  0.699599    844.162  Kecimen  \n",
       "4  0.792772   1073.251  Kecimen  "
      ]
     },
     "execution_count": 2,
     "metadata": {},
     "output_type": "execute_result"
    }
   ],
   "source": [
    "df = pd.read_excel('Raisin_Dataset.xlsx')\n",
    "df.head()"
   ]
  },
  {
   "cell_type": "markdown",
   "metadata": {},
   "source": [
    "### Check the classes\n",
    "\n",
    "We have 2 classes."
   ]
  },
  {
   "cell_type": "code",
   "execution_count": 3,
   "metadata": {},
   "outputs": [
    {
     "data": {
      "text/plain": [
       "array(['Kecimen', 'Besni'], dtype=object)"
      ]
     },
     "execution_count": 3,
     "metadata": {},
     "output_type": "execute_result"
    }
   ],
   "source": [
    "df[\"Class\"].unique()"
   ]
  },
  {
   "cell_type": "markdown",
   "metadata": {},
   "source": [
    "## Separate two classes"
   ]
  },
  {
   "cell_type": "code",
   "execution_count": 4,
   "metadata": {},
   "outputs": [],
   "source": [
    "dfs = [x for _, x in df.groupby('Class')]\n",
    "df0 = dfs[1].reset_index(drop=True)\n",
    "df1 = dfs[0].drop(columns=[\"Class\"]).reset_index(drop=True)"
   ]
  },
  {
   "cell_type": "code",
   "execution_count": 5,
   "metadata": {},
   "outputs": [
    {
     "data": {
      "text/html": [
       "<div>\n",
       "<style scoped>\n",
       "    .dataframe tbody tr th:only-of-type {\n",
       "        vertical-align: middle;\n",
       "    }\n",
       "\n",
       "    .dataframe tbody tr th {\n",
       "        vertical-align: top;\n",
       "    }\n",
       "\n",
       "    .dataframe thead th {\n",
       "        text-align: right;\n",
       "    }\n",
       "</style>\n",
       "<table border=\"1\" class=\"dataframe\">\n",
       "  <thead>\n",
       "    <tr style=\"text-align: right;\">\n",
       "      <th></th>\n",
       "      <th>Area</th>\n",
       "      <th>MajorAxisLength</th>\n",
       "      <th>MinorAxisLength</th>\n",
       "      <th>Eccentricity</th>\n",
       "      <th>ConvexArea</th>\n",
       "      <th>Extent</th>\n",
       "      <th>Perimeter</th>\n",
       "      <th>Class</th>\n",
       "    </tr>\n",
       "  </thead>\n",
       "  <tbody>\n",
       "    <tr>\n",
       "      <th>0</th>\n",
       "      <td>87524</td>\n",
       "      <td>442.246011</td>\n",
       "      <td>253.291155</td>\n",
       "      <td>0.819738</td>\n",
       "      <td>90546</td>\n",
       "      <td>0.758651</td>\n",
       "      <td>1184.040</td>\n",
       "      <td>Kecimen</td>\n",
       "    </tr>\n",
       "    <tr>\n",
       "      <th>1</th>\n",
       "      <td>75166</td>\n",
       "      <td>406.690687</td>\n",
       "      <td>243.032436</td>\n",
       "      <td>0.801805</td>\n",
       "      <td>78789</td>\n",
       "      <td>0.684130</td>\n",
       "      <td>1121.786</td>\n",
       "      <td>Kecimen</td>\n",
       "    </tr>\n",
       "    <tr>\n",
       "      <th>2</th>\n",
       "      <td>90856</td>\n",
       "      <td>442.267048</td>\n",
       "      <td>266.328318</td>\n",
       "      <td>0.798354</td>\n",
       "      <td>93717</td>\n",
       "      <td>0.637613</td>\n",
       "      <td>1208.575</td>\n",
       "      <td>Kecimen</td>\n",
       "    </tr>\n",
       "    <tr>\n",
       "      <th>3</th>\n",
       "      <td>45928</td>\n",
       "      <td>286.540559</td>\n",
       "      <td>208.760042</td>\n",
       "      <td>0.684989</td>\n",
       "      <td>47336</td>\n",
       "      <td>0.699599</td>\n",
       "      <td>844.162</td>\n",
       "      <td>Kecimen</td>\n",
       "    </tr>\n",
       "    <tr>\n",
       "      <th>4</th>\n",
       "      <td>79408</td>\n",
       "      <td>352.190770</td>\n",
       "      <td>290.827533</td>\n",
       "      <td>0.564011</td>\n",
       "      <td>81463</td>\n",
       "      <td>0.792772</td>\n",
       "      <td>1073.251</td>\n",
       "      <td>Kecimen</td>\n",
       "    </tr>\n",
       "  </tbody>\n",
       "</table>\n",
       "</div>"
      ],
      "text/plain": [
       "    Area  MajorAxisLength  MinorAxisLength  Eccentricity  ConvexArea  \\\n",
       "0  87524       442.246011       253.291155      0.819738       90546   \n",
       "1  75166       406.690687       243.032436      0.801805       78789   \n",
       "2  90856       442.267048       266.328318      0.798354       93717   \n",
       "3  45928       286.540559       208.760042      0.684989       47336   \n",
       "4  79408       352.190770       290.827533      0.564011       81463   \n",
       "\n",
       "     Extent  Perimeter    Class  \n",
       "0  0.758651   1184.040  Kecimen  \n",
       "1  0.684130   1121.786  Kecimen  \n",
       "2  0.637613   1208.575  Kecimen  \n",
       "3  0.699599    844.162  Kecimen  \n",
       "4  0.792772   1073.251  Kecimen  "
      ]
     },
     "execution_count": 5,
     "metadata": {},
     "output_type": "execute_result"
    }
   ],
   "source": [
    "df0.head()"
   ]
  },
  {
   "cell_type": "markdown",
   "metadata": {},
   "source": [
    "### Assign class  number to each class"
   ]
  },
  {
   "cell_type": "code",
   "execution_count": 6,
   "metadata": {},
   "outputs": [],
   "source": [
    "df0[\"Class\"] = 0\n",
    "df1[\"Class\"] = 1"
   ]
  },
  {
   "cell_type": "markdown",
   "metadata": {},
   "source": [
    "# Prepare train and test sets\n",
    "\n",
    "80\\% in train and 20\\% in test"
   ]
  },
  {
   "cell_type": "code",
   "execution_count": 7,
   "metadata": {},
   "outputs": [],
   "source": [
    "train_df0 = df0.iloc[0: int(len(df0)*0.8)]\n",
    "train_df1 = df1.iloc[0: int(len(df1)*0.8)]"
   ]
  },
  {
   "cell_type": "code",
   "execution_count": 8,
   "metadata": {},
   "outputs": [
    {
     "data": {
      "text/html": [
       "<div>\n",
       "<style scoped>\n",
       "    .dataframe tbody tr th:only-of-type {\n",
       "        vertical-align: middle;\n",
       "    }\n",
       "\n",
       "    .dataframe tbody tr th {\n",
       "        vertical-align: top;\n",
       "    }\n",
       "\n",
       "    .dataframe thead th {\n",
       "        text-align: right;\n",
       "    }\n",
       "</style>\n",
       "<table border=\"1\" class=\"dataframe\">\n",
       "  <thead>\n",
       "    <tr style=\"text-align: right;\">\n",
       "      <th></th>\n",
       "      <th>Area</th>\n",
       "      <th>MajorAxisLength</th>\n",
       "      <th>MinorAxisLength</th>\n",
       "      <th>Eccentricity</th>\n",
       "      <th>ConvexArea</th>\n",
       "      <th>Extent</th>\n",
       "      <th>Perimeter</th>\n",
       "    </tr>\n",
       "  </thead>\n",
       "  <tbody>\n",
       "    <tr>\n",
       "      <th>0</th>\n",
       "      <td>87524</td>\n",
       "      <td>442.246011</td>\n",
       "      <td>253.291155</td>\n",
       "      <td>0.819738</td>\n",
       "      <td>90546</td>\n",
       "      <td>0.758651</td>\n",
       "      <td>1184.040</td>\n",
       "    </tr>\n",
       "    <tr>\n",
       "      <th>1</th>\n",
       "      <td>75166</td>\n",
       "      <td>406.690687</td>\n",
       "      <td>243.032436</td>\n",
       "      <td>0.801805</td>\n",
       "      <td>78789</td>\n",
       "      <td>0.684130</td>\n",
       "      <td>1121.786</td>\n",
       "    </tr>\n",
       "    <tr>\n",
       "      <th>2</th>\n",
       "      <td>90856</td>\n",
       "      <td>442.267048</td>\n",
       "      <td>266.328318</td>\n",
       "      <td>0.798354</td>\n",
       "      <td>93717</td>\n",
       "      <td>0.637613</td>\n",
       "      <td>1208.575</td>\n",
       "    </tr>\n",
       "    <tr>\n",
       "      <th>3</th>\n",
       "      <td>45928</td>\n",
       "      <td>286.540559</td>\n",
       "      <td>208.760042</td>\n",
       "      <td>0.684989</td>\n",
       "      <td>47336</td>\n",
       "      <td>0.699599</td>\n",
       "      <td>844.162</td>\n",
       "    </tr>\n",
       "    <tr>\n",
       "      <th>4</th>\n",
       "      <td>79408</td>\n",
       "      <td>352.190770</td>\n",
       "      <td>290.827533</td>\n",
       "      <td>0.564011</td>\n",
       "      <td>81463</td>\n",
       "      <td>0.792772</td>\n",
       "      <td>1073.251</td>\n",
       "    </tr>\n",
       "    <tr>\n",
       "      <th>...</th>\n",
       "      <td>...</td>\n",
       "      <td>...</td>\n",
       "      <td>...</td>\n",
       "      <td>...</td>\n",
       "      <td>...</td>\n",
       "      <td>...</td>\n",
       "      <td>...</td>\n",
       "    </tr>\n",
       "    <tr>\n",
       "      <th>715</th>\n",
       "      <td>56244</td>\n",
       "      <td>398.802452</td>\n",
       "      <td>182.844046</td>\n",
       "      <td>0.888703</td>\n",
       "      <td>58530</td>\n",
       "      <td>0.656366</td>\n",
       "      <td>1008.134</td>\n",
       "    </tr>\n",
       "    <tr>\n",
       "      <th>716</th>\n",
       "      <td>142239</td>\n",
       "      <td>614.834478</td>\n",
       "      <td>297.735347</td>\n",
       "      <td>0.874928</td>\n",
       "      <td>148078</td>\n",
       "      <td>0.643516</td>\n",
       "      <td>1553.114</td>\n",
       "    </tr>\n",
       "    <tr>\n",
       "      <th>717</th>\n",
       "      <td>78632</td>\n",
       "      <td>407.940329</td>\n",
       "      <td>245.821198</td>\n",
       "      <td>0.798050</td>\n",
       "      <td>79715</td>\n",
       "      <td>0.689011</td>\n",
       "      <td>1068.727</td>\n",
       "    </tr>\n",
       "    <tr>\n",
       "      <th>718</th>\n",
       "      <td>93430</td>\n",
       "      <td>467.637119</td>\n",
       "      <td>258.947168</td>\n",
       "      <td>0.832693</td>\n",
       "      <td>98337</td>\n",
       "      <td>0.712988</td>\n",
       "      <td>1258.966</td>\n",
       "    </tr>\n",
       "    <tr>\n",
       "      <th>719</th>\n",
       "      <td>97583</td>\n",
       "      <td>522.786556</td>\n",
       "      <td>241.940773</td>\n",
       "      <td>0.886468</td>\n",
       "      <td>101231</td>\n",
       "      <td>0.725983</td>\n",
       "      <td>1298.731</td>\n",
       "    </tr>\n",
       "  </tbody>\n",
       "</table>\n",
       "<p>720 rows × 7 columns</p>\n",
       "</div>"
      ],
      "text/plain": [
       "       Area  MajorAxisLength  MinorAxisLength  Eccentricity  ConvexArea  \\\n",
       "0     87524       442.246011       253.291155      0.819738       90546   \n",
       "1     75166       406.690687       243.032436      0.801805       78789   \n",
       "2     90856       442.267048       266.328318      0.798354       93717   \n",
       "3     45928       286.540559       208.760042      0.684989       47336   \n",
       "4     79408       352.190770       290.827533      0.564011       81463   \n",
       "..      ...              ...              ...           ...         ...   \n",
       "715   56244       398.802452       182.844046      0.888703       58530   \n",
       "716  142239       614.834478       297.735347      0.874928      148078   \n",
       "717   78632       407.940329       245.821198      0.798050       79715   \n",
       "718   93430       467.637119       258.947168      0.832693       98337   \n",
       "719   97583       522.786556       241.940773      0.886468      101231   \n",
       "\n",
       "       Extent  Perimeter  \n",
       "0    0.758651   1184.040  \n",
       "1    0.684130   1121.786  \n",
       "2    0.637613   1208.575  \n",
       "3    0.699599    844.162  \n",
       "4    0.792772   1073.251  \n",
       "..        ...        ...  \n",
       "715  0.656366   1008.134  \n",
       "716  0.643516   1553.114  \n",
       "717  0.689011   1068.727  \n",
       "718  0.712988   1258.966  \n",
       "719  0.725983   1298.731  \n",
       "\n",
       "[720 rows x 7 columns]"
      ]
     },
     "execution_count": 8,
     "metadata": {},
     "output_type": "execute_result"
    }
   ],
   "source": [
    "X_train = pd.concat([train_df0.drop(columns=[\"Class\"]), train_df1.drop(columns=[\"Class\"])]).reset_index(drop=True)\n",
    "X_train"
   ]
  },
  {
   "cell_type": "code",
   "execution_count": 9,
   "metadata": {},
   "outputs": [
    {
     "data": {
      "text/plain": [
       "0      0\n",
       "1      0\n",
       "2      0\n",
       "3      0\n",
       "4      0\n",
       "      ..\n",
       "355    1\n",
       "356    1\n",
       "357    1\n",
       "358    1\n",
       "359    1\n",
       "Name: Class, Length: 720, dtype: int64"
      ]
     },
     "execution_count": 9,
     "metadata": {},
     "output_type": "execute_result"
    }
   ],
   "source": [
    "y_train = pd.concat([train_df0[\"Class\"], train_df1[\"Class\"]])\n",
    "y_train"
   ]
  },
  {
   "cell_type": "code",
   "execution_count": 10,
   "metadata": {},
   "outputs": [],
   "source": [
    "test_df0 = df0.iloc[int(len(df0)*0.8):]\n",
    "test_df1 = df1.iloc[int(len(df1)*0.8):]"
   ]
  },
  {
   "cell_type": "code",
   "execution_count": 11,
   "metadata": {},
   "outputs": [],
   "source": [
    "X_test = pd.concat([test_df0.drop(columns=[\"Class\"]), test_df1.drop(columns=[\"Class\"])]).reset_index(drop=True)\n",
    "y_test = pd.concat([test_df0[\"Class\"], test_df1[\"Class\"]])"
   ]
  },
  {
   "cell_type": "markdown",
   "metadata": {},
   "source": [
    "# Standardize the dataset\n",
    "\n",
    "Before preparing the model, the entire dataset need to be standardized. Only train set mean and standard deviation are used to standardize the dataset to avoid potential bias. Each feature/attribute $(X_i)$ is subtracted by its mean $\\mu$ and divided by its standard deviation $\\sigma$. \n",
    "\n",
    "$\\mu = \\frac{1}{N} * X_i$\\\n",
    "$X_i = (X_i - \\mu) / \\sigma$"
   ]
  },
  {
   "cell_type": "code",
   "execution_count": 12,
   "metadata": {},
   "outputs": [],
   "source": [
    "mean_train = X_train.mean()\n",
    "std_train = X_train.std()"
   ]
  },
  {
   "cell_type": "code",
   "execution_count": 13,
   "metadata": {},
   "outputs": [
    {
     "data": {
      "text/plain": [
       "Area               88043.401389\n",
       "MajorAxisLength      432.215772\n",
       "MinorAxisLength      254.705362\n",
       "Eccentricity           0.780984\n",
       "ConvexArea         91495.638889\n",
       "Extent                 0.698941\n",
       "Perimeter           1169.716692\n",
       "dtype: float64"
      ]
     },
     "execution_count": 13,
     "metadata": {},
     "output_type": "execute_result"
    }
   ],
   "source": [
    "mean_train"
   ]
  },
  {
   "cell_type": "code",
   "execution_count": 14,
   "metadata": {},
   "outputs": [
    {
     "data": {
      "text/plain": [
       "Area               38921.340363\n",
       "MajorAxisLength      117.019632\n",
       "MinorAxisLength       49.308385\n",
       "Eccentricity           0.093355\n",
       "ConvexArea         40763.058741\n",
       "Extent                 0.054117\n",
       "Perimeter            274.748746\n",
       "dtype: float64"
      ]
     },
     "execution_count": 14,
     "metadata": {},
     "output_type": "execute_result"
    }
   ],
   "source": [
    "std_train"
   ]
  },
  {
   "cell_type": "code",
   "execution_count": 15,
   "metadata": {},
   "outputs": [
    {
     "data": {
      "text/html": [
       "<div>\n",
       "<style scoped>\n",
       "    .dataframe tbody tr th:only-of-type {\n",
       "        vertical-align: middle;\n",
       "    }\n",
       "\n",
       "    .dataframe tbody tr th {\n",
       "        vertical-align: top;\n",
       "    }\n",
       "\n",
       "    .dataframe thead th {\n",
       "        text-align: right;\n",
       "    }\n",
       "</style>\n",
       "<table border=\"1\" class=\"dataframe\">\n",
       "  <thead>\n",
       "    <tr style=\"text-align: right;\">\n",
       "      <th></th>\n",
       "      <th>Area</th>\n",
       "      <th>MajorAxisLength</th>\n",
       "      <th>MinorAxisLength</th>\n",
       "      <th>Eccentricity</th>\n",
       "      <th>ConvexArea</th>\n",
       "      <th>Extent</th>\n",
       "      <th>Perimeter</th>\n",
       "    </tr>\n",
       "  </thead>\n",
       "  <tbody>\n",
       "    <tr>\n",
       "      <th>0</th>\n",
       "      <td>-0.013345</td>\n",
       "      <td>0.085714</td>\n",
       "      <td>-0.028681</td>\n",
       "      <td>0.415126</td>\n",
       "      <td>-0.023297</td>\n",
       "      <td>1.103335</td>\n",
       "      <td>0.052132</td>\n",
       "    </tr>\n",
       "    <tr>\n",
       "      <th>1</th>\n",
       "      <td>-0.330857</td>\n",
       "      <td>-0.218127</td>\n",
       "      <td>-0.236733</td>\n",
       "      <td>0.223030</td>\n",
       "      <td>-0.311719</td>\n",
       "      <td>-0.273694</td>\n",
       "      <td>-0.174453</td>\n",
       "    </tr>\n",
       "    <tr>\n",
       "      <th>2</th>\n",
       "      <td>0.072264</td>\n",
       "      <td>0.085894</td>\n",
       "      <td>0.235720</td>\n",
       "      <td>0.186058</td>\n",
       "      <td>0.054494</td>\n",
       "      <td>-1.133249</td>\n",
       "      <td>0.141432</td>\n",
       "    </tr>\n",
       "    <tr>\n",
       "      <th>3</th>\n",
       "      <td>-1.082065</td>\n",
       "      <td>-1.244878</td>\n",
       "      <td>-0.931795</td>\n",
       "      <td>-1.028276</td>\n",
       "      <td>-1.083325</td>\n",
       "      <td>0.012163</td>\n",
       "      <td>-1.184918</td>\n",
       "    </tr>\n",
       "    <tr>\n",
       "      <th>4</th>\n",
       "      <td>-0.221868</td>\n",
       "      <td>-0.683860</td>\n",
       "      <td>0.732577</td>\n",
       "      <td>-2.324163</td>\n",
       "      <td>-0.246121</td>\n",
       "      <td>1.733843</td>\n",
       "      <td>-0.351105</td>\n",
       "    </tr>\n",
       "  </tbody>\n",
       "</table>\n",
       "</div>"
      ],
      "text/plain": [
       "       Area  MajorAxisLength  MinorAxisLength  Eccentricity  ConvexArea  \\\n",
       "0 -0.013345         0.085714        -0.028681      0.415126   -0.023297   \n",
       "1 -0.330857        -0.218127        -0.236733      0.223030   -0.311719   \n",
       "2  0.072264         0.085894         0.235720      0.186058    0.054494   \n",
       "3 -1.082065        -1.244878        -0.931795     -1.028276   -1.083325   \n",
       "4 -0.221868        -0.683860         0.732577     -2.324163   -0.246121   \n",
       "\n",
       "     Extent  Perimeter  \n",
       "0  1.103335   0.052132  \n",
       "1 -0.273694  -0.174453  \n",
       "2 -1.133249   0.141432  \n",
       "3  0.012163  -1.184918  \n",
       "4  1.733843  -0.351105  "
      ]
     },
     "execution_count": 15,
     "metadata": {},
     "output_type": "execute_result"
    }
   ],
   "source": [
    "X_train_standard = (X_train - mean_train)/ std_train\n",
    "X_train_standard.head()"
   ]
  },
  {
   "cell_type": "code",
   "execution_count": 16,
   "metadata": {},
   "outputs": [
    {
     "data": {
      "text/html": [
       "<div>\n",
       "<style scoped>\n",
       "    .dataframe tbody tr th:only-of-type {\n",
       "        vertical-align: middle;\n",
       "    }\n",
       "\n",
       "    .dataframe tbody tr th {\n",
       "        vertical-align: top;\n",
       "    }\n",
       "\n",
       "    .dataframe thead th {\n",
       "        text-align: right;\n",
       "    }\n",
       "</style>\n",
       "<table border=\"1\" class=\"dataframe\">\n",
       "  <thead>\n",
       "    <tr style=\"text-align: right;\">\n",
       "      <th></th>\n",
       "      <th>Area</th>\n",
       "      <th>MajorAxisLength</th>\n",
       "      <th>MinorAxisLength</th>\n",
       "      <th>Eccentricity</th>\n",
       "      <th>ConvexArea</th>\n",
       "      <th>Extent</th>\n",
       "      <th>Perimeter</th>\n",
       "    </tr>\n",
       "  </thead>\n",
       "  <tbody>\n",
       "    <tr>\n",
       "      <th>0</th>\n",
       "      <td>-1.008043</td>\n",
       "      <td>-0.854138</td>\n",
       "      <td>-1.305133</td>\n",
       "      <td>0.413987</td>\n",
       "      <td>-0.972661</td>\n",
       "      <td>-0.694778</td>\n",
       "      <td>-0.879715</td>\n",
       "    </tr>\n",
       "    <tr>\n",
       "      <th>1</th>\n",
       "      <td>-1.002134</td>\n",
       "      <td>-1.254607</td>\n",
       "      <td>-0.687215</td>\n",
       "      <td>-1.579456</td>\n",
       "      <td>-0.996408</td>\n",
       "      <td>0.292508</td>\n",
       "      <td>-1.194003</td>\n",
       "    </tr>\n",
       "    <tr>\n",
       "      <th>2</th>\n",
       "      <td>-0.600555</td>\n",
       "      <td>-0.577963</td>\n",
       "      <td>-0.525359</td>\n",
       "      <td>-0.025955</td>\n",
       "      <td>-0.588073</td>\n",
       "      <td>-0.796336</td>\n",
       "      <td>-0.633396</td>\n",
       "    </tr>\n",
       "    <tr>\n",
       "      <th>3</th>\n",
       "      <td>0.393964</td>\n",
       "      <td>0.243161</td>\n",
       "      <td>0.675094</td>\n",
       "      <td>-0.005231</td>\n",
       "      <td>0.345248</td>\n",
       "      <td>0.517888</td>\n",
       "      <td>0.220261</td>\n",
       "    </tr>\n",
       "    <tr>\n",
       "      <th>4</th>\n",
       "      <td>-0.361534</td>\n",
       "      <td>-0.623341</td>\n",
       "      <td>0.174981</td>\n",
       "      <td>-1.078837</td>\n",
       "      <td>-0.396011</td>\n",
       "      <td>1.031061</td>\n",
       "      <td>-0.553115</td>\n",
       "    </tr>\n",
       "  </tbody>\n",
       "</table>\n",
       "</div>"
      ],
      "text/plain": [
       "       Area  MajorAxisLength  MinorAxisLength  Eccentricity  ConvexArea  \\\n",
       "0 -1.008043        -0.854138        -1.305133      0.413987   -0.972661   \n",
       "1 -1.002134        -1.254607        -0.687215     -1.579456   -0.996408   \n",
       "2 -0.600555        -0.577963        -0.525359     -0.025955   -0.588073   \n",
       "3  0.393964         0.243161         0.675094     -0.005231    0.345248   \n",
       "4 -0.361534        -0.623341         0.174981     -1.078837   -0.396011   \n",
       "\n",
       "     Extent  Perimeter  \n",
       "0 -0.694778  -0.879715  \n",
       "1  0.292508  -1.194003  \n",
       "2 -0.796336  -0.633396  \n",
       "3  0.517888   0.220261  \n",
       "4  1.031061  -0.553115  "
      ]
     },
     "execution_count": 16,
     "metadata": {},
     "output_type": "execute_result"
    }
   ],
   "source": [
    "X_test_standard = (X_test - mean_train)/ std_train\n",
    "X_test_standard.head()"
   ]
  },
  {
   "cell_type": "markdown",
   "metadata": {},
   "source": [
    "## Prepare the dataset for the neural network"
   ]
  },
  {
   "cell_type": "code",
   "execution_count": 17,
   "metadata": {},
   "outputs": [],
   "source": [
    "X_train = X_train_standard.to_numpy()\n",
    "X_test = X_test_standard.to_numpy()\n",
    "y_train = y_train.to_numpy().reshape(X_train.shape[0],1)\n",
    "y_test = y_test.to_numpy().reshape(X_test.shape[0],1)"
   ]
  },
  {
   "cell_type": "code",
   "execution_count": null,
   "metadata": {},
   "outputs": [],
   "source": []
  },
  {
   "cell_type": "markdown",
   "metadata": {},
   "source": [
    "# Prepare the Neural Network\n",
    "\n",
    "Steps to follow:\n",
    "\n",
    "* Define the architecute of neural network: input layer, hidden layer, output layer\n",
    "* Run the forward pass and get the prediction\n",
    "* Run the backward pass, calculate the delta of each layer and then gradient\n",
    "* Use the gradient to update the weights\n"
   ]
  },
  {
   "cell_type": "code",
   "execution_count": 18,
   "metadata": {},
   "outputs": [],
   "source": [
    "import numpy as np\n",
    "\n",
    "class NeuralNetwork:\n",
    "    def __init__(self, input_size, hidden_size, output_size):\n",
    "        self.input_size = input_size\n",
    "        self.hidden_size = hidden_size\n",
    "        self.output_size = output_size\n",
    "        \n",
    "        # Initialize weights with random values\n",
    "        self.W1 = np.random.randn(self.input_size + 1, self.hidden_size)\n",
    "        self.W2 = np.random.randn(self.hidden_size + 1, self.output_size)\n",
    "        \n",
    "    def sigmoid(self, x):\n",
    "        return 1 / (1 + np.exp(-x))\n",
    "    \n",
    "    def sigmoid_derivative(self, x):\n",
    "        return x * (1 - x)\n",
    "    \n",
    "    def forward(self, X): \n",
    "        # Add bias node to input\n",
    "        X = np.hstack((X, np.ones((X.shape[0], 1))))\n",
    "        \n",
    "        # Compute activations of hidden layer\n",
    "        self.hidden_activations = self.sigmoid(np.dot(X, self.W1))\n",
    "        \n",
    "        # Add bias node to hidden layer activations\n",
    "        self.hidden_activations = np.hstack((self.hidden_activations, np.ones((self.hidden_activations.shape[0], 1))))\n",
    "        \n",
    "        # Compute output\n",
    "        output_activations = self.sigmoid(np.dot(self.hidden_activations, self.W2))\n",
    "        \n",
    "        return output_activations\n",
    "    \n",
    "    def backward(self, X, y, output_activations, learning_rate):\n",
    "        # Add bias node to input\n",
    "        X = np.hstack((X, np.ones((X.shape[0], 1))))\n",
    "        \n",
    "        # Compute gradients\n",
    "        output_error = output_activations - y\n",
    "        output_delta = output_error * self.sigmoid_derivative(output_activations)\n",
    "        \n",
    "        hidden_error = np.dot(output_delta, self.W2.T)\n",
    "        hidden_delta = hidden_error * self.sigmoid_derivative(self.hidden_activations)\n",
    "        \n",
    "        # Update weights\n",
    "        gradient2 = np.dot(self.hidden_activations.T, output_delta)\n",
    "        gradient1 = np.dot(X.T, hidden_delta[:,1:])\n",
    "        \n",
    "        return gradient2, gradient1\n",
    "    \n",
    "    def train(self, X, y, epochs, batch_size=10, learning_rate=0.005):\n",
    "        for epoch in range(epochs):\n",
    "            # Shuffle data\n",
    "            indices = np.random.permutation(len(X))\n",
    "            X = X[indices]\n",
    "            y = y[indices]\n",
    "            \n",
    "            # Split data into mini-batches\n",
    "            mini_batches = [(X[k:k+batch_size], y[k:k+batch_size]) for k in range(0, len(X), batch_size)]\n",
    "            loss = 0\n",
    "            for mini_batch in mini_batches:\n",
    "                mini_X, mini_y = mini_batch\n",
    "                #mini_X = np.hstack((mini_X, np.ones((mini_X.shape[0], 1))))\n",
    "                \n",
    "                # Forward pass\n",
    "                output_activations = self.forward(mini_X)\n",
    "                \n",
    "                # Backward pass\n",
    "                gradient2, gradient1 = self.backward(mini_X, mini_y, output_activations, learning_rate)\n",
    "                \n",
    "                # Update the weights\n",
    "                self.W2 -= learning_rate * gradient2\n",
    "                self.W1 -= learning_rate * gradient1\n",
    "                \n",
    "                # Calculate loss using cross-entropy loss function\n",
    "                batch_loss = -np.mean(mini_y * np.log(output_activations) + (1 - mini_y) * np.log(1 - output_activations))\n",
    "                loss += batch_loss\n",
    "            loss = loss/len(mini_batches)\n",
    "            if epoch % 3 == 0:\n",
    "                print(f'Epoch: {epoch} Loss: {loss}')\n",
    "    \n",
    "    def predict(self, X):\n",
    "        output_activations = self.forward(X)\n",
    "        predictions = (np.rint(output_activations)).astype(int)\n",
    "        return predictions"
   ]
  },
  {
   "cell_type": "code",
   "execution_count": null,
   "metadata": {},
   "outputs": [],
   "source": []
  },
  {
   "cell_type": "code",
   "execution_count": 19,
   "metadata": {},
   "outputs": [
    {
     "name": "stdout",
     "output_type": "stream",
     "text": [
      "Epoch: 0 Loss: 0.9335641224785982\n",
      "Epoch: 3 Loss: 0.9098120349739427\n",
      "Epoch: 6 Loss: 0.8856751214529511\n",
      "Epoch: 9 Loss: 0.8609679129765463\n",
      "Epoch: 12 Loss: 0.8359042543287907\n",
      "Epoch: 15 Loss: 0.8101793902610349\n",
      "Epoch: 18 Loss: 0.7842258693885243\n",
      "Epoch: 21 Loss: 0.757828785661919\n",
      "Epoch: 24 Loss: 0.7314903237300004\n",
      "Epoch: 27 Loss: 0.7053823091381327\n",
      "Epoch: 30 Loss: 0.6799279339432879\n",
      "Epoch: 33 Loss: 0.6552528745799716\n",
      "Epoch: 36 Loss: 0.6317902012799597\n",
      "Epoch: 39 Loss: 0.6094257655984205\n",
      "Test Accuracy: 0.6444444444444445\n"
     ]
    }
   ],
   "source": [
    "num_samples, num_features = X_train_standard.shape\n",
    "\n",
    "# Initialize and train the neural network\n",
    "input_size = num_features\n",
    "hidden_size = 10\n",
    "output_size = 1\n",
    "\n",
    "epochs = 40\n",
    "batch_size = 10\n",
    "learning_rate = 0.001\n",
    "\n",
    "model = NeuralNetwork(input_size, hidden_size, output_size)\n",
    "model.train(X_train, y_train, epochs, batch_size, learning_rate)\n",
    "\n",
    "# Test the model\n",
    "predictions = model.predict(X_test)\n",
    "\n",
    "# Calculate accuracy\n",
    "test_accuracy = np.sum(predictions == y_test) / len(y_test)\n",
    "print(f\"Test Accuracy: {test_accuracy}\")\n"
   ]
  },
  {
   "cell_type": "code",
   "execution_count": null,
   "metadata": {},
   "outputs": [],
   "source": []
  },
  {
   "cell_type": "markdown",
   "metadata": {},
   "source": [
    "# Evaluation Metrics\n",
    "\n",
    "The following evaluation metrics are used to evaluate the LDA model:\n",
    "* accuracy = (TN + TP)/ N\n",
    "* sensitivity = TP / (TP + FN)\n",
    "* specificity = TN / (TN + FP)\n",
    "* precision = TP / (TP + FP)\n",
    "* f1-score = $2*\\frac{precision * sensitivity} {precision + sensitivity}$\n",
    "* log loss = $- \\frac{1}{N} * \\sum_{i}^{N} [y_i*ln(p_i) + (1-y_i)*ln(1-p_i)]$\n",
    "\n",
    "Here,\n",
    "\n",
    "TP= True Positive\\\n",
    "TN= True Negative\\\n",
    "FP= False Positive\\\n",
    "FN= False Negative\\\n",
    "$y_i$ = ground truth of instance i\\\n",
    "$p_i$ = probability of instance of i"
   ]
  },
  {
   "cell_type": "code",
   "execution_count": 20,
   "metadata": {},
   "outputs": [],
   "source": [
    "def compute_confusion_matrix(true, pred):\n",
    "    '''Computes a confusion matrix using numpy.'''\n",
    "\n",
    "    K = len(np.unique(true)) # Number of classes \n",
    "    result = np.zeros((K, K))\n",
    "\n",
    "    for i in range(len(true)):\n",
    "        result[true[i]][pred[i]] += 1\n",
    "\n",
    "    return result"
   ]
  },
  {
   "cell_type": "code",
   "execution_count": 21,
   "metadata": {},
   "outputs": [],
   "source": [
    "def accuracy(conf_matrix):\n",
    "    tn, fp, fn, tp = conf_matrix.ravel()\n",
    "    return (tp+tn)/(tp+tn+fp+fn) "
   ]
  },
  {
   "cell_type": "code",
   "execution_count": 22,
   "metadata": {},
   "outputs": [],
   "source": [
    "def sensitivity(conf_matrix):\n",
    "    tn, fp, fn, tp = conf_matrix.ravel()\n",
    "    return tp/(tp+fn)   "
   ]
  },
  {
   "cell_type": "code",
   "execution_count": 23,
   "metadata": {},
   "outputs": [],
   "source": [
    "def specificity(conf_matrix):\n",
    "    tn, fp, fn, tp = conf_matrix.ravel()\n",
    "    return tn/(tn+fp) "
   ]
  },
  {
   "cell_type": "code",
   "execution_count": 24,
   "metadata": {},
   "outputs": [],
   "source": [
    "def precision(conf_matrix):\n",
    "    tn, fp, fn, tp = conf_matrix.ravel()\n",
    "    return tp/(tp+fp) "
   ]
  },
  {
   "cell_type": "code",
   "execution_count": 25,
   "metadata": {},
   "outputs": [],
   "source": [
    "def f1_score(conf_matrix):\n",
    "    tn, fp, fn, tp = conf_matrix.ravel()\n",
    "    precision = tp/(tp+fp)\n",
    "    recall = tp/(tp+fn)\n",
    "    f1_score = 2 * (precision * recall)/(precision + recall)\n",
    "    return f1_score"
   ]
  },
  {
   "cell_type": "markdown",
   "metadata": {},
   "source": [
    "## Evaluation metrics for train set"
   ]
  },
  {
   "cell_type": "code",
   "execution_count": 26,
   "metadata": {},
   "outputs": [
    {
     "data": {
      "text/plain": [
       "array([[235., 125.],\n",
       "       [113., 247.]])"
      ]
     },
     "execution_count": 26,
     "metadata": {},
     "output_type": "execute_result"
    }
   ],
   "source": [
    "y_train_pred = model.predict(X_train)\n",
    "\n",
    "conf_matrix_train = compute_confusion_matrix(y_train.reshape(y_train.shape[0]), y_train_pred.reshape(y_train.shape[0]))\n",
    "conf_matrix_train"
   ]
  },
  {
   "cell_type": "code",
   "execution_count": 27,
   "metadata": {},
   "outputs": [
    {
     "data": {
      "text/plain": [
       "0.6694444444444444"
      ]
     },
     "execution_count": 27,
     "metadata": {},
     "output_type": "execute_result"
    }
   ],
   "source": [
    "accuracy(conf_matrix_train)"
   ]
  },
  {
   "cell_type": "code",
   "execution_count": 28,
   "metadata": {},
   "outputs": [
    {
     "data": {
      "text/plain": [
       "0.6861111111111111"
      ]
     },
     "execution_count": 28,
     "metadata": {},
     "output_type": "execute_result"
    }
   ],
   "source": [
    "sensitivity(conf_matrix_train)"
   ]
  },
  {
   "cell_type": "code",
   "execution_count": 29,
   "metadata": {},
   "outputs": [
    {
     "data": {
      "text/plain": [
       "0.6527777777777778"
      ]
     },
     "execution_count": 29,
     "metadata": {},
     "output_type": "execute_result"
    }
   ],
   "source": [
    "specificity(conf_matrix_train)"
   ]
  },
  {
   "cell_type": "code",
   "execution_count": 30,
   "metadata": {},
   "outputs": [
    {
     "data": {
      "text/plain": [
       "0.6748633879781422"
      ]
     },
     "execution_count": 30,
     "metadata": {},
     "output_type": "execute_result"
    }
   ],
   "source": [
    "f1_score(conf_matrix_train)"
   ]
  },
  {
   "cell_type": "markdown",
   "metadata": {},
   "source": [
    "## Evaluation metrics for test set"
   ]
  },
  {
   "cell_type": "code",
   "execution_count": 31,
   "metadata": {},
   "outputs": [
    {
     "data": {
      "text/plain": [
       "array([[58., 32.],\n",
       "       [32., 58.]])"
      ]
     },
     "execution_count": 31,
     "metadata": {},
     "output_type": "execute_result"
    }
   ],
   "source": [
    "y_test_pred = model.predict(X_test)\n",
    "\n",
    "conf_matrix_test = compute_confusion_matrix(y_test.reshape(y_test.shape[0]), y_test_pred.reshape(y_test.shape[0]))\n",
    "conf_matrix_test"
   ]
  },
  {
   "cell_type": "code",
   "execution_count": 32,
   "metadata": {},
   "outputs": [
    {
     "data": {
      "text/plain": [
       "0.6444444444444445"
      ]
     },
     "execution_count": 32,
     "metadata": {},
     "output_type": "execute_result"
    }
   ],
   "source": [
    "accuracy(conf_matrix_test)"
   ]
  },
  {
   "cell_type": "code",
   "execution_count": 33,
   "metadata": {},
   "outputs": [
    {
     "data": {
      "text/plain": [
       "0.6444444444444445"
      ]
     },
     "execution_count": 33,
     "metadata": {},
     "output_type": "execute_result"
    }
   ],
   "source": [
    "sensitivity(conf_matrix_test)"
   ]
  },
  {
   "cell_type": "code",
   "execution_count": 34,
   "metadata": {},
   "outputs": [
    {
     "data": {
      "text/plain": [
       "0.6444444444444445"
      ]
     },
     "execution_count": 34,
     "metadata": {},
     "output_type": "execute_result"
    }
   ],
   "source": [
    "specificity(conf_matrix_test)"
   ]
  },
  {
   "cell_type": "code",
   "execution_count": 35,
   "metadata": {},
   "outputs": [
    {
     "data": {
      "text/plain": [
       "0.6444444444444445"
      ]
     },
     "execution_count": 35,
     "metadata": {},
     "output_type": "execute_result"
    }
   ],
   "source": [
    "f1_score(conf_matrix_test)"
   ]
  },
  {
   "cell_type": "code",
   "execution_count": null,
   "metadata": {},
   "outputs": [],
   "source": []
  }
 ],
 "metadata": {
  "kernelspec": {
   "display_name": "Python 3",
   "language": "python",
   "name": "python3"
  },
  "language_info": {
   "codemirror_mode": {
    "name": "ipython",
    "version": 3
   },
   "file_extension": ".py",
   "mimetype": "text/x-python",
   "name": "python",
   "nbconvert_exporter": "python",
   "pygments_lexer": "ipython3",
   "version": "3.7.4"
  }
 },
 "nbformat": 4,
 "nbformat_minor": 5
}
